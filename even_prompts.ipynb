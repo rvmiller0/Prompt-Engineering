{
  "cells": [
    {
      "cell_type": "markdown",
      "metadata": {
        "id": "djEjyyLDQcWc"
      },
      "source": [
        "## Assignment 3"
      ]
    },
    {
      "cell_type": "code",
      "execution_count": null,
      "metadata": {
        "colab": {
          "base_uri": "https://localhost:8080/"
        },
        "id": "ZxYuclVfQcWs",
        "outputId": "1bac369f-c597-4dda-8d3e-25c43a698bca"
      },
      "outputs": [
        {
          "name": "stdout",
          "output_type": "stream",
          "text": [
            "Requirement already satisfied: openai in /usr/local/lib/python3.11/dist-packages (1.75.0)\n",
            "Requirement already satisfied: anyio<5,>=3.5.0 in /usr/local/lib/python3.11/dist-packages (from openai) (4.9.0)\n",
            "Requirement already satisfied: distro<2,>=1.7.0 in /usr/local/lib/python3.11/dist-packages (from openai) (1.9.0)\n",
            "Requirement already satisfied: httpx<1,>=0.23.0 in /usr/local/lib/python3.11/dist-packages (from openai) (0.28.1)\n",
            "Requirement already satisfied: jiter<1,>=0.4.0 in /usr/local/lib/python3.11/dist-packages (from openai) (0.9.0)\n",
            "Requirement already satisfied: pydantic<3,>=1.9.0 in /usr/local/lib/python3.11/dist-packages (from openai) (2.11.3)\n",
            "Requirement already satisfied: sniffio in /usr/local/lib/python3.11/dist-packages (from openai) (1.3.1)\n",
            "Requirement already satisfied: tqdm>4 in /usr/local/lib/python3.11/dist-packages (from openai) (4.67.1)\n",
            "Requirement already satisfied: typing-extensions<5,>=4.11 in /usr/local/lib/python3.11/dist-packages (from openai) (4.13.2)\n",
            "Requirement already satisfied: idna>=2.8 in /usr/local/lib/python3.11/dist-packages (from anyio<5,>=3.5.0->openai) (3.10)\n",
            "Requirement already satisfied: certifi in /usr/local/lib/python3.11/dist-packages (from httpx<1,>=0.23.0->openai) (2025.1.31)\n",
            "Requirement already satisfied: httpcore==1.* in /usr/local/lib/python3.11/dist-packages (from httpx<1,>=0.23.0->openai) (1.0.8)\n",
            "Requirement already satisfied: h11<0.15,>=0.13 in /usr/local/lib/python3.11/dist-packages (from httpcore==1.*->httpx<1,>=0.23.0->openai) (0.14.0)\n",
            "Requirement already satisfied: annotated-types>=0.6.0 in /usr/local/lib/python3.11/dist-packages (from pydantic<3,>=1.9.0->openai) (0.7.0)\n",
            "Requirement already satisfied: pydantic-core==2.33.1 in /usr/local/lib/python3.11/dist-packages (from pydantic<3,>=1.9.0->openai) (2.33.1)\n",
            "Requirement already satisfied: typing-inspection>=0.4.0 in /usr/local/lib/python3.11/dist-packages (from pydantic<3,>=1.9.0->openai) (0.4.0)\n"
          ]
        }
      ],
      "source": [
        "# pip install openai\n",
        "%pip install openai"
      ]
    },
    {
      "cell_type": "code",
      "execution_count": null,
      "metadata": {
        "id": "SqYSMzrlQcW1"
      },
      "outputs": [],
      "source": [
        "from openai import OpenAI\n",
        "\n",
        "# Create your PAT token by following instructions here:\n",
        "# https://docs.github.com/en/authentication/keeping-your-account-and-data-secure/managing-your-personal-access-tokens\n",
        "# grab the token from the token.txt file\n",
        "#with open(\"token.txt\", \"r\") as f:\n",
        "#    GITHUB_TOKEN = f.read().strip()\n",
        "\n",
        "\n",
        "GITHUB_TOKEN = #insert personal API key here\n",
        "# To authenticate with the model you will need to generate a personal access token (PAT) in your GitHub settings.\n",
        "client = OpenAI(\n",
        "    base_url=\"https://models.inference.ai.azure.com\",\n",
        "    api_key=GITHUB_TOKEN,\n",
        ")\n",
        "\n",
        "models = [\"gpt-4o-mini\" , \"Codestral-2501\", \"Llama-4-Scout-17B-16E-Instruct\", \"Ministral-3B\"]"
      ]
    },
    {
      "cell_type": "markdown",
      "metadata": {
        "id": "YGCX-PTHQcW8"
      },
      "source": [
        "## Task 2: Bug Fixing (Python – Off-by-One)\n",
        "\n",
        "Objective: Identify and fix the off-by-one error in this the following python function:\n"
      ]
    },
    {
      "cell_type": "code",
      "execution_count": null,
      "metadata": {
        "id": "7rosiEWeQcXI"
      },
      "outputs": [],
      "source": [
        "code = '''\n",
        "def sum_range ( start , end ) :\n",
        "total = 0\n",
        "for i in range ( start , end ) :\n",
        "total += i\n",
        "return total\n",
        "'''\n"
      ]
    },
    {
      "cell_type": "code",
      "execution_count": null,
      "metadata": {
        "colab": {
          "base_uri": "https://localhost:8080/"
        },
        "id": "-S_96LO1QcXX",
        "outputId": "936c3eb8-cd24-45d3-c36a-b818e8ccbe7f"
      },
      "outputs": [
        {
          "name": "stdout",
          "output_type": "stream",
          "text": [
            "The off-by-one error in the function is that the `end` value is not included in the summation. To include the `end` value, you should change the range in the `for` loop to `range(start, end + 1)`. Here's the corrected function:\n",
            "\n",
            "```python\n",
            "def sum_range(start, end):\n",
            "    total = 0\n",
            "    for i in range(start, end + 1):\n",
            "        total += i\n",
            "    return total\n",
            "```\n"
          ]
        }
      ],
      "source": [
        "response = client.chat.completions.create(\n",
        "    model = models[0], # Choose the model you want to use\n",
        "    messages=[\n",
        "        {\"role\": \"user\",\n",
        "         \"content\": f\"Identify and fix the off-by-one error in the following python function. Be concise and to the point:\\n{code}\"\n",
        "         },\n",
        "    ],\n",
        "    max_tokens=1024,\n",
        "    temperature=0.7,\n",
        ")\n",
        "\n",
        "print(response.choices[0].message.content)\n",
        "\n"
      ]
    },
    {
      "cell_type": "code",
      "execution_count": null,
      "metadata": {
        "colab": {
          "base_uri": "https://localhost:8080/"
        },
        "id": "z1A_3Bgq9YAC",
        "outputId": "f8f52770-94dd-4d51-ef3d-4dbdab488aca"
      },
      "outputs": [
        {
          "name": "stdout",
          "output_type": "stream",
          "text": [
            "The off-by-one error in the provided function is due to the `range(start, end)` call, which excludes the `end` value. To include the `end` value in the sum, change `range(start, end)` to `range(start, end + 1)`:\n",
            "\n",
            "```python\n",
            "def sum_range(start, end):\n",
            "    total = 0\n",
            "    for i in range(start, end + 1):\n",
            "        total += i\n",
            "    return total\n",
            "```\n"
          ]
        }
      ],
      "source": [
        "response = client.chat.completions.create(\n",
        "    model = models[1], # Choose the model you want to use\n",
        "    messages=[\n",
        "        {\"role\": \"user\",\n",
        "         \"content\": f\"Identify and fix the off-by-one error in the following python function. Be concise and to the point:\\n{code}\"\n",
        "         },\n",
        "    ],\n",
        "    max_tokens=1024,\n",
        "    temperature=0.7,\n",
        ")\n",
        "\n",
        "print(response.choices[0].message.content)\n"
      ]
    },
    {
      "cell_type": "code",
      "execution_count": null,
      "metadata": {
        "colab": {
          "base_uri": "https://localhost:8080/"
        },
        "id": "iwFAXUOuAOLy",
        "outputId": "0a63b09b-a542-431c-ad60-1c8cc37af4eb"
      },
      "outputs": [
        {
          "name": "stdout",
          "output_type": "stream",
          "text": [
            "The off-by-one error in the function arises because the `end` parameter is exclusive in the `range` function, meaning the sum does not include the `end` value. To include `end` in the sum, you should adjust the range to `range(start, end + 1)`.\n",
            "\n",
            "Here’s the corrected function:\n",
            "\n",
            "```python\n",
            "def sum_range(start, end):\n",
            "    total = 0\n",
            "    for i in range(start, end + 1):\n",
            "        total += i\n",
            "    return total\n",
            "```\n"
          ]
        }
      ],
      "source": [
        "response = client.chat.completions.create(\n",
        "    model = models[0], # Choose the model you want to use\n",
        "    messages=[\n",
        "        {\"role\": \"user\",\n",
        "         \"content\": f\"You are an experienced Software Engineer adept at bugfixing. Identify and fix the off-by-one error in the following python function. Be concise and to the point:\\n{code}\"\n",
        "         },\n",
        "    ],\n",
        "    max_tokens=1024,\n",
        "    temperature=0.7,\n",
        ")\n",
        "\n",
        "print(response.choices[0].message.content)"
      ]
    },
    {
      "cell_type": "code",
      "execution_count": null,
      "metadata": {
        "colab": {
          "base_uri": "https://localhost:8080/"
        },
        "id": "mbU_nfCDAObN",
        "outputId": "4c0b18c5-3ff4-41d9-d66a-e90001c5bf19"
      },
      "outputs": [
        {
          "name": "stdout",
          "output_type": "stream",
          "text": [
            "The off-by-one error occurs because the `range` function in Python is exclusive of the `end` value. To include the `end` value in the sum, you should change the `range` function to `range(start, end + 1)`.\n",
            "\n",
            "Here is the corrected function:\n",
            "\n",
            "```python\n",
            "def sum_range(start, end):\n",
            "    total = 0\n",
            "    for i in range(start, end + 1):\n",
            "        total += i\n",
            "    return total\n",
            "```\n",
            "\n",
            "This ensures that the `end` value is included in the summation.\n"
          ]
        }
      ],
      "source": [
        "response = client.chat.completions.create(\n",
        "    model = models[1], # Choose the model you want to use\n",
        "    messages=[\n",
        "        {\"role\": \"user\",\n",
        "         \"content\": f\"You are an experienced Software Engineer adept at bugfixing. Identify and fix the off-by-one error in the following python function. Be concise and to the point:\\n{code}\"\n",
        "         },\n",
        "    ],\n",
        "    max_tokens=1024,\n",
        "    temperature=0.7,\n",
        ")\n",
        "\n",
        "print(response.choices[0].message.content)"
      ]
    },
    {
      "cell_type": "markdown",
      "metadata": {
        "id": "mbxILc2cQcXg"
      },
      "source": [
        "## 4. Generating Email Validators (Python + Regex)\n",
        "Complete the function using regex to validate basic email\n",
        "addresses:"
      ]
    },
    {
      "cell_type": "code",
      "execution_count": null,
      "metadata": {
        "colab": {
          "base_uri": "https://localhost:8080/"
        },
        "id": "-biLM77LQcXq",
        "outputId": "adf3420f-ab51-4107-bda8-acae5f2ff830"
      },
      "outputs": [
        {
          "name": "stdout",
          "output_type": "stream",
          "text": [
            "You can use the `re` module in Python to validate basic email addresses with a regular expression. Here's a complete implementation of the `is_valid_email` function:\n",
            "\n",
            "```python\n",
            "import re\n",
            "\n",
            "def is_valid_email(email):\n",
            "    # Define a regex pattern for validating an email address\n",
            "    pattern = r'^[a-zA-Z0-9._%+-]+@[a-zA-Z0-9.-]+\\.[a-zA-Z]{2,}$'\n",
            "    \n",
            "    # Use re.match to check if the email matches the pattern\n",
            "    return re.match(pattern, email) is not None\n",
            "```\n",
            "\n",
            "### Explanation of the regex pattern:\n",
            "- `^` asserts the start of the string.\n",
            "- `[a-zA-Z0-9._%+-]+` matches one or more characters that can be letters, digits, dots, underscores, percent signs, plus signs, or dashes (the local part of the email).\n",
            "- `@` matches the `@` symbol.\n",
            "- `[a-zA-Z0-9.-]+` matches one or more characters for the domain name, which can include letters, digits, dots, and dashes.\n",
            "- `\\.` matches the dot before the top-level domain.\n",
            "- `[a-zA-Z]{2,}` matches the top-level domain, which must be at least two characters long.\n",
            "- `$` asserts the end of the string.\n",
            "\n",
            "### Usage:\n",
            "You can test the function with some example email addresses:\n",
            "\n",
            "```python\n",
            "print(is_valid_email(\"example@example.com\"))  # True\n",
            "print(is_valid_email(\"user.name+tag@example.co.uk\"))  # True\n",
            "print(is_valid_email(\"user@subdomain.example.com\"))  # True\n",
            "print(is_valid_email(\"invalid-email@.com\"))  # False\n",
            "print(is_valid_email(\"user@domain..com\"))  # False\n",
            "```\n",
            "\n",
            "This function will return `True` for valid email addresses and `False` for invalid ones.\n"
          ]
        }
      ],
      "source": [
        "# Example code to test the model\n",
        "# This code calculates the factorial of a number n\n",
        "code = '''\n",
        "def is_valid_email ( email ) :\n",
        "# TODO : Complete using regex\n",
        "pass\n",
        "'''\n",
        "\n",
        "java_code = ''' '''\n",
        "\n",
        "response = client.chat.completions.create(\n",
        "    model = models[0], # Choose the model you want to use\n",
        "    messages=[\n",
        "        {\"role\": \"user\",\n",
        "         \"content\": f\"Complete the following python function by using regex to validate basic email addresses:\\n{code}\"\n",
        "         },\n",
        "    ],\n",
        "    max_tokens=1024,\n",
        "    temperature=0.7,\n",
        ")\n",
        "\n",
        "print(response.choices[0].message.content)\n"
      ]
    },
    {
      "cell_type": "code",
      "execution_count": null,
      "metadata": {
        "colab": {
          "base_uri": "https://localhost:8080/"
        },
        "id": "1VmyXdLZB485",
        "outputId": "0aac4601-91dd-4f63-cd30-011e93a300be"
      },
      "outputs": [
        {
          "name": "stdout",
          "output_type": "stream",
          "text": [
            "To validate basic email addresses using a regular expression in Python, you can use the `re` module. Below is a completed version of the `is_valid_email` function that uses a regex pattern to validate the email address:\n",
            "\n",
            "```python\n",
            "import re\n",
            "\n",
            "def is_valid_email(email):\n",
            "    # Define the regex pattern for validating an email address\n",
            "    pattern = r'^[a-zA-Z0-9._%+-]+@[a-zA-Z0-9.-]+\\.[a-zA-Z]{2,}$'\n",
            "\n",
            "    # Use the re.match function to check if the email matches the pattern\n",
            "    if re.match(pattern, email):\n",
            "        return True\n",
            "    else:\n",
            "        return False\n",
            "\n",
            "# Example usage\n",
            "print(is_valid_email(\"test@example.com\"))  # True\n",
            "print(is_valid_email(\"invalid-email@\"))    # False\n",
            "```\n",
            "\n",
            "### Explanation of the Regex Pattern:\n",
            "- `^[a-zA-Z0-9._%+-]+`: Ensures the email starts with one or more alphanumeric characters, dots, underscores, percent signs, plus signs, and hyphens.\n",
            "- `@[a-zA-Z0-9.-]+`: Ensures the email contains an `@` symbol followed by one or more alphanumeric characters, dots, and hyphens.\n",
            "- `\\.[a-zA-Z]{2,}$`: Ensures the email ends with a dot followed by two or more alphabetic characters (this is a basic check for the domain suffix).\n",
            "\n",
            "This pattern covers many common email formats but may not be exhaustive. Depending on your needs, you might want to refine the pattern or add additional checks.\n"
          ]
        }
      ],
      "source": [
        "# Example code to test the model\n",
        "# This code calculates the factorial of a number n\n",
        "code = '''\n",
        "def is_valid_email ( email ) :\n",
        "# TODO : Complete using regex\n",
        "pass\n",
        "'''\n",
        "\n",
        "java_code = ''' '''\n",
        "\n",
        "response = client.chat.completions.create(\n",
        "    model = models[1], # Choose the model you want to use\n",
        "    messages=[\n",
        "        {\"role\": \"user\",\n",
        "         \"content\": f\"Complete the following python function by using regex to validate basic email addresses:\\n{code}\"\n",
        "         },\n",
        "    ],\n",
        "    max_tokens=1024,\n",
        "    temperature=0.7,\n",
        ")\n",
        "\n",
        "print(response.choices[0].message.content)"
      ]
    },
    {
      "cell_type": "code",
      "execution_count": null,
      "metadata": {
        "colab": {
          "base_uri": "https://localhost:8080/"
        },
        "id": "EgDIlxsgCKD4",
        "outputId": "a08943b9-dec5-483d-edcb-dea386e5683c"
      },
      "outputs": [
        {
          "name": "stdout",
          "output_type": "stream",
          "text": [
            "You can complete the function `is_valid_email` using the `re` module in Python, which provides support for regular expressions. Here's how you can implement it:\n",
            "\n",
            "```python\n",
            "import re\n",
            "\n",
            "def is_valid_email(email):\n",
            "    # Regular expression pattern for validating an email address\n",
            "    pattern = r'^[a-zA-Z0-9._%+-]+@[a-zA-Z0-9.-]+\\.[a-zA-Z]{2,}$'\n",
            "    return bool(re.match(pattern, email))\n",
            "```\n",
            "\n",
            "### Explanation:\n",
            "The function `is_valid_email` uses a regular expression to check if the provided email address follows a valid format. The pattern ensures that the email starts with alphanumeric characters and specific allowed symbols, followed by an '@' symbol, then a domain name consisting of alphanumeric characters and dots, and finally a top-level domain (TLD) that is at least two characters long (like .com, .org). The `re.match` function checks if the email matches the pattern, returning `True` for valid emails and `False` for invalid ones.\n"
          ]
        }
      ],
      "source": [
        "# Example code to test the model\n",
        "# This code calculates the factorial of a number n\n",
        "code = '''\n",
        "def is_valid_email ( email ) :\n",
        "# TODO : Complete using regex\n",
        "pass\n",
        "'''\n",
        "\n",
        "java_code = ''' '''\n",
        "\n",
        "response = client.chat.completions.create(\n",
        "    model = models[0], # Choose the model you want to use\n",
        "    messages=[\n",
        "        {\"role\": \"user\",\n",
        "         \"content\": f\"Compdete the following python function by using regex to validate basic email addresses. Give me a clear, 2-3 sentence explanation of the code. Here's an example of what the code should do: given amass@gmail.com: True. Given mbass@gmail.cm: False:\\n{code}\"\n",
        "         },\n",
        "    ],\n",
        "    max_tokens=1024,\n",
        "    temperature=0.7,\n",
        ")\n",
        "\n",
        "print(response.choices[0].message.content)"
      ]
    },
    {
      "cell_type": "code",
      "execution_count": null,
      "metadata": {
        "colab": {
          "base_uri": "https://localhost:8080/"
        },
        "id": "WhgVyoNcC8rP",
        "outputId": "04bf1b63-1673-4727-9e22-fc28c8238a92"
      },
      "outputs": [
        {
          "name": "stdout",
          "output_type": "stream",
          "text": [
            "Sure, here is the completed Python function using regex to validate basic email addresses:\n",
            "\n",
            "```python\n",
            "import re\n",
            "\n",
            "def is_valid_email(email):\n",
            "    # Define a regex pattern for a basic email address\n",
            "    pattern = r'^[a-zA-Z0-9_.+-]+@[a-zA-Z0-9-]+\\.[a-zA-Z0-9-.]+$'\n",
            "    # Use the fullmatch method to check if the entire string matches the pattern\n",
            "    return bool(re.fullmatch(pattern, email))\n",
            "```\n",
            "\n",
            "The function `is_valid_email` uses a regular expression to validate whether a given string is a basic email address. It matches strings that have a username followed by '@', a domain name, and a top-level domain, ensuring the format is correct. If the email matches the pattern, the function returns `True`; otherwise, it returns `False`.\n"
          ]
        }
      ],
      "source": [
        "# Example code to test the model\n",
        "# This code calculates the factorial of a number n\n",
        "code = '''\n",
        "def is_valid_email ( email ) :\n",
        "# TODO : Complete using regex\n",
        "pass\n",
        "'''\n",
        "\n",
        "java_code = ''' '''\n",
        "\n",
        "response = client.chat.completions.create(\n",
        "    model = models[1], # Choose the model you want to use\n",
        "    messages=[\n",
        "        {\"role\": \"user\",\n",
        "         \"content\": f\"Compdete the following python function by using regex to validate basic email addresses. Give me a clear, 2-3 sentence explanation of the code. Here's an example of what the code should do: given amass@gmail.com: True. Given mbass@gmail.cm: False:\\n{code}\"\n",
        "         },\n",
        "    ],\n",
        "    max_tokens=1024,\n",
        "    temperature=0.7,\n",
        ")\n",
        "\n",
        "print(response.choices[0].message.content)"
      ]
    },
    {
      "cell_type": "markdown",
      "metadata": {
        "id": "upvEWhT7Dg15"
      },
      "source": [
        "## 6. SQL Schema Design (SQL)\n",
        "Write the schema for a review app with users, books, and reviews:"
      ]
    },
    {
      "cell_type": "code",
      "execution_count": null,
      "metadata": {
        "colab": {
          "base_uri": "https://localhost:8080/"
        },
        "id": "C978lBXTD4uq",
        "outputId": "1d4d659d-bfd1-40b3-de18-f8b630146b53"
      },
      "outputs": [
        {
          "name": "stdout",
          "output_type": "stream",
          "text": [
            "To design a schema for a review app with users, books, and reviews, we need to define the structure of each table with appropriate keys and constraints. Here is a schema definition using SQL:\n",
            "\n",
            "### Schema Definition\n",
            "\n",
            "```sql\n",
            "-- Table: users\n",
            "CREATE TABLE users (\n",
            "    id SERIAL PRIMARY KEY,\n",
            "    name VARCHAR(255) NOT NULL\n",
            ");\n",
            "\n",
            "-- Table: books\n",
            "CREATE TABLE books (\n",
            "    id SERIAL PRIMARY KEY,\n",
            "    title VARCHAR(255) NOT NULL\n",
            ");\n",
            "\n",
            "-- Table: reviews\n",
            "CREATE TABLE reviews (\n",
            "    id SERIAL PRIMARY KEY,\n",
            "    user_id INT NOT NULL,\n",
            "    book_id INT NOT NULL,\n",
            "    rating INT NOT NULL CHECK (rating >= 1 AND rating <= 5),\n",
            "    FOREIGN KEY (user_id) REFERENCES users(id),\n",
            "    FOREIGN KEY (book_id) REFERENCES books(id)\n",
            ");\n",
            "```\n",
            "\n",
            "### Explanation of the Schema\n",
            "\n",
            "1. **users Table**:\n",
            "    - `id`: An auto-incrementing primary key to uniquely identify each user.\n",
            "    - `name`: A string to store the user's name. The `NOT NULL` constraint ensures that every user must have a name.\n",
            "\n",
            "2. **books Table**:\n",
            "    - `id`: An auto-incrementing primary key to uniquely identify each book.\n",
            "    - `title`: A string to store the title of the book. The `NOT NULL` constraint ensures that every book must have a title.\n",
            "\n",
            "3. **reviews Table**:\n",
            "    - `id`: An auto-incrementing primary key to uniquely identify each review.\n",
            "    - `user_id`: An integer to store the ID of the user who wrote the review. The `NOT NULL` constraint ensures that every review must be associated with a user. The `FOREIGN KEY` constraint ensures that the `user_id` references a valid `id` in the `users` table.\n",
            "    - `book_id`: An integer to store the ID of the book being reviewed. The `NOT NULL` constraint ensures that every review must be associated with a book. The `FOREIGN KEY` constraint ensures that the `book_id` references a valid `id` in the `books` table.\n",
            "    - `rating`: An integer to store the rating given to the book. The `CHECK` constraint ensures that the rating is between 1 and 5 (inclusive).\n",
            "\n",
            "This schema design ensures that each review is associated with a valid user and book, and that ratings are within the specified range. This structure also enforces data integrity through the use of primary keys and foreign keys.\n"
          ]
        }
      ],
      "source": [
        "# Example code to test the model\n",
        "# This code calculates the factorial of a number n\n",
        "code = '''\n",
        "-- TODO : Design schema with appropriate keys and constraints\n",
        "-- Tables : users ( id , name ) , books ( id , title ) , reviews ( id , user_id , book_id ,\n",
        "rating )\n",
        "'''\n",
        "\n",
        "java_code = ''' '''\n",
        "\n",
        "response = client.chat.completions.create(\n",
        "    model = models[1], # Choose the model you want to use\n",
        "    messages=[\n",
        "        {\"role\": \"user\",\n",
        "         \"content\": f\"Given the following list of specifications, write the schema for a review app with users, books and reviews. Give a brief explanation of the code:\\n{code}\"\n",
        "         },\n",
        "    ],\n",
        "    max_tokens=1024,\n",
        "    temperature=0.7,\n",
        ")\n",
        "\n",
        "print(response.choices[0].message.content)"
      ]
    },
    {
      "cell_type": "code",
      "execution_count": null,
      "metadata": {
        "colab": {
          "base_uri": "https://localhost:8080/"
        },
        "id": "jsdb4cNmVQGP",
        "outputId": "1c77fc27-bf92-4f3f-9a36-19f104d7aef6"
      },
      "outputs": [
        {
          "name": "stdout",
          "output_type": "stream",
          "text": [
            "Let's create a relational database schema for a review app that includes users, books, and reviews. We'll define three tables: `users`, `books`, and `reviews`. I'll walk you through the steps and explain the code along the way.\n",
            "\n",
            "### Step 1: Define the Users Table\n",
            "\n",
            "The `users` table will store information about the users of the app. We'll define the columns and set up primary keys and constraints.\n",
            "\n",
            "```sql\n",
            "CREATE TABLE users (\n",
            "    id SERIAL PRIMARY KEY,  -- Auto-incrementing ID for each user\n",
            "    name VARCHAR(255) NOT NULL  -- Name of the user, cannot be null\n",
            ");\n",
            "```\n",
            "\n",
            "**Explanation:**\n",
            "- `id SERIAL PRIMARY KEY`: This creates an auto-incrementing primary key for the `users` table, ensuring each user has a unique identifier.\n",
            "- `name VARCHAR(255) NOT NULL`: This defines a column for the user's name, with a maximum length of 255 characters. The `NOT NULL` constraint ensures that a user must have a name.\n",
            "\n",
            "### Step 2: Define the Books Table\n",
            "\n",
            "The `books` table will store information about the books. We'll similarly define the necessary columns and keys.\n",
            "\n",
            "```sql\n",
            "CREATE TABLE books (\n",
            "    id SERIAL PRIMARY KEY,  -- Auto-incrementing ID for each book\n",
            "    title VARCHAR(255) NOT NULL  -- Title of the book, cannot be null\n",
            ");\n",
            "```\n",
            "\n",
            "**Explanation:**\n",
            "- `id SERIAL PRIMARY KEY`: Creates a unique identifier for each book in the same way as for users.\n",
            "- `title VARCHAR(255) NOT NULL`: Defines a column for the book title, which also cannot be null.\n",
            "\n",
            "### Step 3: Define the Reviews Table\n",
            "\n",
            "The `reviews` table will associate users with books and include a rating for each review. It will reference the `users` and `books` tables, enforcing foreign key constraints.\n",
            "\n",
            "```sql\n",
            "CREATE TABLE reviews (\n",
            "    id SERIAL PRIMARY KEY,  -- Auto-incrementing ID for each review\n",
            "    user_id INT NOT NULL,  -- Foreign key referencing users\n",
            "    book_id INT NOT NULL,  -- Foreign key referencing books\n",
            "    rating INT CHECK (rating >= 1 AND rating <= 5),  -- Rating must be between 1 and 5\n",
            "    FOREIGN KEY (user_id) REFERENCES users(id) ON DELETE CASCADE,  -- Ensures user exists\n",
            "    FOREIGN KEY (book_id) REFERENCES books(id) ON DELETE CASCADE  -- Ensures book exists\n",
            ");\n",
            "```\n",
            "\n",
            "**Explanation:**\n",
            "- `id SERIAL PRIMARY KEY`: Again, creates a unique identifier for each review.\n",
            "- `user_id INT NOT NULL`: This column will store the user ID and cannot be null.\n",
            "- `book_id INT NOT NULL`: This column will store the book ID and cannot be null.\n",
            "- `rating INT CHECK (rating >= 1 AND rating <= 5)`: This constraint ensures that the rating must be an integer between 1 and 5.\n",
            "- `FOREIGN KEY (user_id) REFERENCES users(id) ON DELETE CASCADE`: This creates a foreign key relationship with the `users` table. If a user is deleted, all their reviews will also be deleted.\n",
            "- `FOREIGN KEY (book_id) REFERENCES books(id) ON DELETE CASCADE`: Similar to the user foreign key, this ensures that if a book is deleted, all associated reviews will also be deleted.\n",
            "\n",
            "### Complete Schema\n",
            "\n",
            "Putting it all together, the complete schema looks like this:\n",
            "\n",
            "```sql\n",
            "CREATE TABLE users (\n",
            "    id SERIAL PRIMARY KEY,\n",
            "    name VARCHAR(255) NOT NULL\n",
            ");\n",
            "\n",
            "CREATE TABLE books (\n",
            "    id SERIAL PRIMARY KEY,\n",
            "    title VARCHAR(255) NOT NULL\n",
            ");\n",
            "\n",
            "CREATE TABLE reviews (\n",
            "    id SERIAL PRIMARY KEY,\n",
            "    user_id INT NOT NULL,\n",
            "    book_id INT NOT NULL,\n",
            "    rating INT CHECK (rating >= 1 AND rating <= 5),\n",
            "    FOREIGN KEY (user_id) REFERENCES users(id) ON DELETE CASCADE,\n",
            "    FOREIGN KEY (book_id) REFERENCES books(id) ON DELETE CASCADE\n",
            ");\n",
            "```\n",
            "\n",
            "### Summary\n",
            "\n",
            "This schema defines three tables to manage users, books, and reviews, including appropriate keys and constraints to maintain data integrity. The use of foreign keys ensures that relationships between users, books, and their reviews are properly enforced. The checks on the rating ensure valid input, enhancing the reliability of the review system.\n"
          ]
        }
      ],
      "source": [
        "# Example code to test the model\n",
        "# This code calculates the factorial of a number n\n",
        "code = '''\n",
        "Given the following list of specifications, write the schema for a review app with users, books and reviews.\n",
        "Do this in a step by step process. Give a brief explanation of the code:\n",
        "-- TODO : Design schema with appropriate keys and constraints\n",
        "-- Tables : users ( id , name ) , books ( id , title ) , reviews ( id , user_id , book_id ,\n",
        "rating )\n",
        "'''\n",
        "\n",
        "java_code = ''' '''\n",
        "\n",
        "response = client.chat.completions.create(\n",
        "    model = models[0], # Choose the model you want to use\n",
        "    messages=[\n",
        "        {\"role\": \"user\",\n",
        "         \"content\": f\"Given the following list of specifications, write the schema for a review app with users, books and reviews. Do this in a step by step process. Give a brief explanation of the code:\\n{code}\"\n",
        "         },\n",
        "    ],\n",
        "    max_tokens=1024,\n",
        "    temperature=0.7,\n",
        ")\n",
        "\n",
        "print(response.choices[0].message.content)"
      ]
    },
    {
      "cell_type": "markdown",
      "metadata": {
        "id": "9t54VXWBNSV4"
      },
      "source": [
        "## 8. CSV Parser Variants (Python)\n",
        "Improve the parser to support quoted fields:"
      ]
    },
    {
      "cell_type": "code",
      "execution_count": null,
      "metadata": {
        "id": "JJbXCjOqNa_f"
      },
      "outputs": [],
      "source": [
        "# Example code to test the model\n",
        "# This code calculates the factorial of a number n\n",
        "code = '''\n",
        "def parse_csv_line ( line ) :\n",
        "return line . split ( ’ , ’) # Incomplete : doesn ’t handle quoted fields\n",
        "'''\n",
        "\n",
        "java_code = ''' '''\n",
        "\n",
        "response = client.chat.completions.create(\n",
        "    model = models[1], # Choose the model you want to use\n",
        "    messages=[\n",
        "        {\"role\": \"user\",\n",
        "         \"content\": f\"Improve the following parser method in Python to support quoted fields. Do this step by step:\\n{code}\"\n",
        "         },\n",
        "    ],\n",
        "    max_tokens=1024,\n",
        "    temperature=0.9,\n",
        ")\n",
        "\n",
        "print(response.choices[0].message.content)"
      ]
    },
    {
      "cell_type": "code",
      "execution_count": null,
      "metadata": {
        "colab": {
          "base_uri": "https://localhost:8080/"
        },
        "id": "9UlrOVB5Xosx",
        "outputId": "925fe1b5-2998-4310-9a21-85f5b4a0523c"
      },
      "outputs": [
        {
          "name": "stdout",
          "output_type": "stream",
          "text": [
            "To improve the `parse_csv_line` method to support quoted fields, we need to handle cases where fields are enclosed in quotes and may contain commas within them. Here's a step-by-step approach to achieve this:\n",
            "\n",
            "### Step 1: Initialize Variables\n",
            "We'll need to initialize variables to keep track of the current field, whether we are inside quotes, and the result list of fields.\n",
            "\n",
            "### Step 2: Iterate Through the Line\n",
            "We'll iterate through each character in the line and build the fields accordingly.\n",
            "\n",
            "### Step 3: Handle Quoted Fields\n",
            "We need to handle cases where fields are enclosed in quotes and may contain commas within them. We'll use a flag to keep track of whether we are inside quotes.\n",
            "\n",
            "### Step 4: Handle Escaped Quotes\n",
            "We need to handle cases where quotes are escaped within a quoted field.\n",
            "\n",
            "### Step 5: Handle Multiple Quotes\n",
            "We need to handle cases where there are multiple quoted fields in a single line.\n",
            "\n",
            "Here's the improved `parse_csv_line` method:\n",
            "\n",
            "```python\n",
            "def parse_csv_line(line):\n",
            "    fields = []\n",
            "    current_field = []\n",
            "    inside_quotes = False\n",
            "    escape_next = False\n",
            "\n",
            "    for char in line:\n",
            "        if escape_next:\n",
            "            current_field.append(char)\n",
            "            escape_next = False\n",
            "        elif char == '\"':\n",
            "            if inside_quotes:\n",
            "                if len(current_field) > 0 and current_field[-1] == '\"':\n",
            "                    current_field.append(char)\n",
            "                else:\n",
            "                    inside_quotes = False\n",
            "            else:\n",
            "                inside_quotes = True\n",
            "                current_field.append(char)\n",
            "        elif char == ',':\n",
            "            if inside_quotes:\n",
            "                current_field.append(char)\n",
            "            else:\n",
            "                fields.append(''.join(current_field).strip('\"'))\n",
            "                current_field = []\n",
            "        elif char == '\\\\':\n",
            "            escape_next = True\n",
            "        else:\n",
            "            current_field.append(char)\n",
            "\n",
            "    # Add the last field\n",
            "    fields.append(''.join(current_field).strip('\"'))\n",
            "\n",
            "    return fields\n",
            "\n",
            "# Example usage:\n",
            "line = 'name,\"John Doe\",age,25,\"New York, NY\"'\n",
            "print(parse_csv_line(line))\n",
            "```\n",
            "\n",
            "### Explanation:\n",
            "1. **Initialization**: We initialize `fields` to store the parsed fields, `current_field` to build the current field, `inside_quotes` to track if we are inside quotes, and `escape_next` to handle escaped characters.\n",
            "2. **Iteration**: We iterate through each character in the line.\n",
            "3. **Handling Quotes**: If we encounter a quote (`\"`), we toggle the `inside_quotes` flag. If we are inside quotes and encounter another quote, we handle it appropriately.\n",
            "4. **Handling Commas**: If we encounter a comma (`,`) and we are not inside quotes, we finalize the current field and start a new one.\n",
            "5. **Handling Escapes**: If we encounter a backslash (`\\`), we set `escape_next` to handle the next character as an escaped character.\n",
            "6. **Finalizing Fields**: After the loop, we add the last field to the `fields` list.\n",
            "\n",
            "This method should correctly handle quoted fields, including those with commas and escaped quotes.\n"
          ]
        }
      ],
      "source": [
        "# Example code to test the model\n",
        "# This code calculates the factorial of a number n\n",
        "code = '''\n",
        "def parse_csv_line ( line ) :\n",
        "return line . split ( ’ , ’) # Incomplete : doesn ’t handle quoted fields\n",
        "'''\n",
        "\n",
        "java_code = ''' '''\n",
        "\n",
        "response = client.chat.completions.create(\n",
        "    model = models[1], # Choose the model you want to use\n",
        "    messages=[\n",
        "        {\"role\": \"user\",\n",
        "         \"content\": f\"Improve the following parser method in Python to support quoted fields. Do this step by step:\\n{code}\"\n",
        "         },\n",
        "    ],\n",
        "    max_tokens=1024,\n",
        "    temperature=0.2,\n",
        ")\n",
        "\n",
        "print(response.choices[0].message.content)"
      ]
    },
    {
      "cell_type": "markdown",
      "metadata": {
        "id": "atonXXgRZeMx"
      },
      "source": [
        "## 10. Function Summarization (Python)\n",
        "Write a brief summary of the function:"
      ]
    },
    {
      "cell_type": "code",
      "execution_count": null,
      "metadata": {
        "colab": {
          "base_uri": "https://localhost:8080/"
        },
        "id": "goD7eOLpZit7",
        "outputId": "cd470bc4-576b-4e88-953d-fe796096c4f5"
      },
      "outputs": [
        {
          "name": "stdout",
          "output_type": "stream",
          "text": [
            "Certainly! The provided Python method `reverse_words` takes a single argument `sentence`, which is expected to be a string. The method's purpose is to reverse the order of words in the input sentence.\n",
            "\n",
            "Here's a summary of how it works:\n",
            "\n",
            "1. **Splitting the Sentence**: The method first splits the input `sentence` into individual words using the `split()` method, which by default splits by whitespace.\n",
            "2. **Reversing the List of Words**: The resulting list of words is then reversed using Python's list slicing feature `[::-1]`.\n",
            "3. **Joining the Words**: Finally, the reversed list of words is joined back into a single string using the `join()` method with a space `' '` as the separator.\n",
            "\n",
            "In essence, the method essentially flips the order of the words in the sentence.\n",
            "\n",
            "Example:\n",
            "```python\n",
            "def reverse_words(sentence):\n",
            "    return ' '.join(sentence.split()[::-1])\n",
            "\n",
            "# Usage\n",
            "original_sentence = \"Hello world this is Python\"\n",
            "reversed_sentence = reverse_words(original_sentence)\n",
            "print(reversed_sentence)  # Output: \"Python is this world Hello\"\n",
            "```\n",
            "\n",
            "This method is efficient and concise, making use of Python's powerful string and list manipulation capabilities.\n"
          ]
        }
      ],
      "source": [
        "# Example code to test the model\n",
        "# This code calculates the factorial of a number n\n",
        "code = '''\n",
        "You are an expert software engineer who is one of the leading experts in the world. Write a brief summary of the following python method:\n",
        "def reverse_words ( sentence ) :\n",
        "return ’ ’. join ( sentence . split () [:: -1])\n",
        "'''\n",
        "\n",
        "java_code = ''' '''\n",
        "\n",
        "response = client.chat.completions.create(\n",
        "    model = models[1], # Choose the model you want to use\n",
        "    messages=[\n",
        "        {\"role\": \"user\",\n",
        "         \"content\": f\"You are an expert software engineer who is one of the leading experts in the world. Write a brief summary of the following python method:\\n{code}\"\n",
        "         },\n",
        "    ],\n",
        "    max_tokens=1024,\n",
        "    temperature=0.9,\n",
        ")\n",
        "\n",
        "print(response.choices[0].message.content)"
      ]
    },
    {
      "cell_type": "code",
      "execution_count": null,
      "metadata": {
        "colab": {
          "base_uri": "https://localhost:8080/"
        },
        "id": "KZtkww8Ka0ZH",
        "outputId": "f715f6b1-92cd-4945-904e-7a8030fbd901"
      },
      "outputs": [
        {
          "name": "stdout",
          "output_type": "stream",
          "text": [
            "Certainly! The provided Python method `reverse_words` takes a single argument `sentence`, which is expected to be a string. The method's purpose is to reverse the order of the words in the input sentence.\n",
            "\n",
            "Here's a step-by-step breakdown of how the method works:\n",
            "\n",
            "1. **Splitting the Sentence**: The `sentence.split()` method is called, which splits the input string into a list of words based on whitespace.\n",
            "2. **Reversing the List**: The `[::-1]` slicing operation is used to reverse the order of the list of words.\n",
            "3. **Joining the Words**: The `join` method is called on the string `' '` (a single space), which concatenates the reversed list of words back into a single string with each word separated by a space.\n",
            "\n",
            "The final result is a string where the words from the original sentence are in reverse order.\n",
            "\n",
            "### Example\n",
            "If the input sentence is `\"Hello world this is Python\"`, the output will be `\"Python is this world Hello\"`.\n",
            "\n",
            "### Summary\n",
            "The `reverse_words` method efficiently reverses the order of words in a given sentence by splitting the sentence into words, reversing the list of words, and then joining them back into a single string.\n"
          ]
        }
      ],
      "source": [
        "# Example code to test the model\n",
        "# This code calculates the factorial of a number n\n",
        "code = '''\n",
        "You are an expert software engineer who is one of the leading experts in the world. Write a brief summary of the following python method:\n",
        "def reverse_words ( sentence ) :\n",
        "return ’ ’. join ( sentence . split () [:: -1])\n",
        "'''\n",
        "\n",
        "java_code = ''' '''\n",
        "\n",
        "response = client.chat.completions.create(\n",
        "    model = models[1], # Choose the model you want to use\n",
        "    messages=[\n",
        "        {\"role\": \"user\",\n",
        "         \"content\": f\"You are an expert software engineer who is one of the leading experts in the world. Write a brief summary of the following python method:\\n{code}\"\n",
        "         },\n",
        "    ],\n",
        "    max_tokens=1024,\n",
        "    temperature=0.2,\n",
        ")\n",
        "\n",
        "print(response.choices[0].message.content)"
      ]
    },
    {
      "cell_type": "markdown",
      "metadata": {
        "id": "AQYLMjEfbRuB"
      },
      "source": [
        "12. Fixing Factorial Bug (Python)\n",
        "Fix the bug when input is 0:"
      ]
    },
    {
      "cell_type": "code",
      "execution_count": null,
      "metadata": {
        "colab": {
          "base_uri": "https://localhost:8080/"
        },
        "id": "xoerjDQxbeTg",
        "outputId": "bf78745d-ab57-45df-9da4-b465fdf0f0e3"
      },
      "outputs": [
        {
          "name": "stdout",
          "output_type": "stream",
          "text": [
            "Assistant: ### Prompt 1: Identifying the Bug\n",
            "\n",
            "The bug in the factorial function occurs when the input is 0. The `range` function starts from 1 and goes up to `n-1`, so when `n` is 0, the `for` loop does not execute because `range(1, 0)` is an empty range.\n",
            "\n",
            "### Prompt 2: Fixing the Bug\n",
            "\n",
            "To fix the bug, we need to handle the case where `n` is 0 separately. When `n` is 0, the factorial should return 1, as 0! is defined as 1 in mathematics.\n",
            "\n",
            "Here is the corrected code:\n",
            "\n",
            "```python\n",
            "def factorial(n):\n",
            "    if n == 0:\n",
            "        return 1\n",
            "    result = 1\n",
            "    for i in range(1, n + 1):  # Changed to n + 1 to include 0\n",
            "        result *= i\n",
            "    return result\n",
            "```\n",
            "\n",
            "### Explanation\n",
            "\n",
            "1. **Check for `n == 0`:** Before starting the loop, check if `n` is 0. If it is, return 1 immediately since 0! is 1.\n",
            "\n",
            "2. **Loop Initialization:** Initialize `result` to 1. This is necessary to multiply all numbers from 1 to `n`.\n",
            "\n",
            "3. **Loop Range:** Change the range to `range(1, n + 1)` to include `n` in the calculation. This ensures that the loop runs from 1 to `n` inclusive.\n",
            "\n",
            "4. **Return Result:** After the loop completes, return the `result`.\n",
            "\n",
            "This ensures that the function correctly calculates the factorial for any non-negative integer `n`.\n",
            "Assistant: Here's the fixed version of the factorial function along with an explanation of the code:\n",
            "\n",
            "```python\n",
            "def factorial(n):\n",
            "    if n < 0:\n",
            "        raise ValueError(\"Factorial is not defined for negative numbers.\")\n",
            "    if n == 0:\n",
            "        return 1\n",
            "    result = 1\n",
            "    for i in range(1, n + 1):\n",
            "        result *= i\n",
            "    return result\n",
            "```\n",
            "\n",
            "### Explanation\n",
            "\n",
            "1. **Input Validation:** The function starts with a check to see if `n` is negative. If `n` is negative, it raises a `ValueError` because the factorial is not defined for negative numbers.\n",
            "\n",
            "2. **Handle Base Case for 0:** The function checks if `n` is 0. If it is, the function immediately returns 1, since 0! (factorial of zero) is defined as 1.\n",
            "\n",
            "3. **Initialize Result:** A variable `result` is initialized to 1. This variable will hold the cumulative product of the numbers from 1 to `n`.\n",
            "\n",
            "4. **Loop to Calculate Factorial:** The `for` loop iterates from 1 to `n` (inclusive), multiplying `result` by each integer `i` in this range. This effectively calculates the factorial of `n`.\n",
            "\n",
            "5. **Return Result:** After the loop completes, the function returns the final value of `result`, which is the factorial of `n`.\n",
            "\n",
            "This implementation correctly computes the factorial for non-negative integers and provides an error message for invalid input.\n"
          ]
        }
      ],
      "source": [
        "# Starter example for chat-based interaction\n",
        "# Set up conversation history\n",
        "messages = [\n",
        "    {\"role\": \"system\", \"content\": \"You are a helpful coding assistant.\"},\n",
        "    {\"role\": \"user\", \"content\": \"\"\"First prompt: Identify the bug with the following factorial function when the input = 0.\n",
        "    def factorial ( n ) :\n",
        "      result = 1\n",
        "      for i in range (1 , n ) :\n",
        "      result *= i\n",
        "      return result\n",
        "      2nd prompt: Now fix the identified bug, while giving a brief explanation of the code\n",
        "      \"\"\"}\n",
        "]\n",
        "\n",
        "# Call the model\n",
        "response = client.chat.completions.create(\n",
        "    model=models[3], # Choose the model you want to use\n",
        "    max_tokens=1024,\n",
        "    temperature=0.7,\n",
        "    messages=messages\n",
        ")\n",
        "\n",
        "# Print the response\n",
        "reply = response.choices[0].message.content\n",
        "print(\"Assistant:\", reply)\n",
        "\n",
        "# Add response to the conversation\n",
        "messages.append({\"role\": \"assistant\", \"content\": reply})\n",
        "\n",
        "# User follows up\n",
        "followup = \"Now fix the identified bug, while giving a brief explanation of the code\"\n",
        "\n",
        "# Add user message\n",
        "messages.append({\"role\": \"user\", \"content\": followup})\n",
        "\n",
        "# Call again with updated history\n",
        "response = client.chat.completions.create(\n",
        "    model=models[0], # Choose the model you want to use\n",
        "    max_tokens=1024,\n",
        "    temperature=0.7,\n",
        "    messages=messages\n",
        ")\n",
        "\n",
        "print(\"Assistant:\", response.choices[0].message.content)"
      ]
    },
    {
      "cell_type": "code",
      "execution_count": null,
      "metadata": {
        "colab": {
          "base_uri": "https://localhost:8080/"
        },
        "id": "nk09CtrCzu0B",
        "outputId": "061ace0d-2421-4512-c48f-ccccf6bc6fa6"
      },
      "outputs": [
        {
          "name": "stdout",
          "output_type": "stream",
          "text": [
            "The bug in the provided factorial function is in the range argument of the `for` loop. The range should include the `n` value itself, so the loop should iterate from `1` to `n`. Additionally, the loop should be adjusted to handle the case when `n` is 0, which should return 1 as per the definition of the factorial function for non-negative integers.\n",
            "\n",
            "Here is the corrected version of the factorial function:\n",
            "\n",
            "```python\n",
            "def factorial(n):\n",
            "    if n == 0:\n",
            "        return 1\n",
            "    result = 1\n",
            "    for i in range(1, n + 1):\n",
            "        result *= i\n",
            "    return result\n",
            "```\n",
            "\n",
            "### Explanation:\n",
            "1. **Handling `n = 0` Case**: Added a check at the beginning to return 1 if `n` is 0.\n",
            "2. **Correcting the Range**: Changed the range in the `for` loop to `range(1, n + 1)` to include `n` in the iteration.\n",
            "\n",
            "With these changes, the function will correctly compute the factorial for any non-negative integer `n`, including `n = 0`.\n"
          ]
        }
      ],
      "source": [
        "# Example code to test the model\n",
        "# This code calculates the factorial of a number n\n",
        "code = '''\n",
        "Identify the bug with the following factorial function when the input = 0\n",
        "    def factorial ( n ) :\n",
        "      result = 1\n",
        "      for i in range (1 , n ) :\n",
        "      result *= i\n",
        "      return result\n",
        "'''\n",
        "\n",
        "java_code = ''' '''\n",
        "\n",
        "response = client.chat.completions.create(\n",
        "    model = models[3], # Choose the model you want to use\n",
        "    messages=[\n",
        "        {\"role\": \"user\",\n",
        "         \"content\": f\"Identify and fix the bug with the following factorial function when the input = 0\\n{code}\"\n",
        "         },\n",
        "    ],\n",
        "    max_tokens=1024,\n",
        "    temperature=0.7,\n",
        ")\n",
        "\n",
        "print(response.choices[0].message.content)"
      ]
    },
    {
      "cell_type": "markdown",
      "metadata": {
        "id": "mE2gAk_G0dK0"
      },
      "source": [
        "14. Recursive Function Completion (Python)\n",
        "Complete the recursive function for Fibonacci:\n"
      ]
    },
    {
      "cell_type": "code",
      "execution_count": null,
      "metadata": {
        "colab": {
          "base_uri": "https://localhost:8080/"
        },
        "id": "2uVySKDQ0n61",
        "outputId": "a04cf9ef-eae2-4e9c-931f-9c56d0c2de30"
      },
      "outputs": [
        {
          "name": "stdout",
          "output_type": "stream",
          "text": [
            "Sure! The Fibonacci sequence is defined as follows:\n",
            "- F(0) = 0\n",
            "- F(1) = 1\n",
            "- F(n) = F(n-1) + F(n-2) for n > 1\n",
            "\n",
            "To implement this recursively in Python, you'll use base cases to terminate the recursion and the recursive call to calculate the Fibonacci number. Here's an example:\n",
            "\n",
            "```python\n",
            "def fibonacci(n):\n",
            "    # Base cases\n",
            "    if n == 0:\n",
            "        return 0\n",
            "    elif n == 1:\n",
            "        return 1\n",
            "    # Recursive call\n",
            "    else:\n",
            "        return fibonacci(n - 1) + fibonacci(n - 2)\n",
            "\n",
            "# Example usage\n",
            "print(fibonacci(10))  # Outputs 55\n",
            "```\n",
            "\n",
            "In this function:\n",
            "- If `n` is 0, the function returns 0.\n",
            "- If `n` is 1, the function returns 1.\n",
            "- For any other value of `n`, the function returns the sum of the Fibonacci numbers for `n-1` and `n-2`.\n",
            "\n",
            "This is the basic recursive implementation of the Fibonacci sequence. While this works, it's not the most efficient approach due to its exponential time complexity. For larger values of `n`, you can use memoization to optimize the function. Here's an example using memoization:\n",
            "\n",
            "```python\n",
            "def fibonacci(n, memo=None):\n",
            "    if memo is None:\n",
            "        memo = {}\n",
            "    # Base cases\n",
            "    if n == 0:\n",
            "        return 0\n",
            "    elif n == 1:\n",
            "        return 1\n",
            "    # Check if value is already computed\n",
            "    if n in memo:\n",
            "        return memo[n]\n",
            "    # Recursive call with memoization\n",
            "    memo[n] = fibonacci(n - 1, memo) + fibonacci(n - 2, memo)\n",
            "    return memo[n]\n",
            "\n",
            "# Example usage\n",
            "print(fibonacci(10))  # Outputs 55\n",
            "```\n",
            "\n",
            "In this version, the `memo` dictionary stores previously computed Fibonacci numbers, avoiding redundant calculations.\n"
          ]
        }
      ],
      "source": [
        "# Example code to test the model\n",
        "# This code calculates the factorial of a number n\n",
        "code = '''\n",
        "def fibonacci ( n ) :\n",
        "# TODO : Base cases and recursive call\n",
        "pass\n",
        "'''\n",
        "\n",
        "java_code = ''' '''\n",
        "\n",
        "response = client.chat.completions.create(\n",
        "    model = models[3], # Choose the model you want to use\n",
        "    messages=[\n",
        "        {\"role\": \"user\",\n",
        "         \"content\": f\"Given the following incomplete Python method, build a recursive function for Fibonacci: \\n{code}\"\n",
        "         },\n",
        "    ],\n",
        "    max_tokens=1024,\n",
        "    temperature=0.9,\n",
        ")\n",
        "\n",
        "print(response.choices[0].message.content)"
      ]
    },
    {
      "cell_type": "code",
      "execution_count": null,
      "metadata": {
        "colab": {
          "base_uri": "https://localhost:8080/"
        },
        "id": "6SZH8KNc2dC5",
        "outputId": "17395f4b-1ad4-4d2c-89e2-6bcf75ab2523"
      },
      "outputs": [
        {
          "name": "stdout",
          "output_type": "stream",
          "text": [
            "Certainly! The Fibonacci sequence is a series of numbers where each number is the sum of the two preceding ones, usually starting with 0 and 1. Here's how you can build a recursive function for Fibonacci in Python:\n",
            "\n",
            "```python\n",
            "def fibonacci(n):\n",
            "    # Base cases\n",
            "    if n <= 0:\n",
            "        return 0\n",
            "    elif n == 1:\n",
            "        return 1\n",
            "    # Recursive case\n",
            "    else:\n",
            "        return fibonacci(n - 1) + fibonacci(n - 2)\n",
            "\n",
            "# Example usage:\n",
            "print(fibonacci(10))  # Output: 55\n",
            "```\n",
            "\n",
            "### Explanation:\n",
            "1. **Base Cases**:\n",
            "   - If `n` is 0, return 0.\n",
            "   - If `n` is 1, return 1.\n",
            "\n",
            "2. **Recursive Case**:\n",
            "   - For any other value of `n`, return the sum of the Fibonacci numbers at `n-1` and `n-2`.\n",
            "\n",
            "### Example:\n",
            "- `fibonacci(10)` will compute `fibonacci(9) + fibonacci(8)`, which in turn will compute `fibonacci(8) + fibonacci(7)`, and so on, until it reaches the base cases.\n",
            "\n",
            "This recursive approach is simple but not the most efficient for large values of `n` due to its exponential time complexity. For larger values, consider using memoization or an iterative approach to improve performance.\n"
          ]
        }
      ],
      "source": [
        "# Example code to test the model\n",
        "# This code calculates the factorial of a number n\n",
        "code = '''\n",
        "def fibonacci ( n ) :\n",
        "# TODO : Base cases and recursive call\n",
        "pass\n",
        "'''\n",
        "\n",
        "java_code = ''' '''\n",
        "\n",
        "response = client.chat.completions.create(\n",
        "    model = models[3], # Choose the model you want to use\n",
        "    messages=[\n",
        "        {\"role\": \"user\",\n",
        "         \"content\": f\"Given the following incomplete Python method, build a recursive function for Fibonacci: \\n{code}\"\n",
        "         },\n",
        "    ],\n",
        "    max_tokens=1024,\n",
        "    temperature=0.2,\n",
        ")\n",
        "\n",
        "print(response.choices[0].message.content)"
      ]
    },
    {
      "cell_type": "markdown",
      "metadata": {
        "id": "GVXhYDJh2n6c"
      },
      "source": [
        "# 16. Binary Search Completion (Java) Complete the binary search implementation:\n"
      ]
    },
    {
      "cell_type": "code",
      "execution_count": null,
      "metadata": {
        "colab": {
          "base_uri": "https://localhost:8080/"
        },
        "id": "B116f5QK3qcV",
        "outputId": "e830b3a5-e479-45fd-fa16-cd2ff3d32ab4"
      },
      "outputs": [
        {
          "name": "stdout",
          "output_type": "stream",
          "text": [
            "Certainly! Here's the completed binary search implementation:\n",
            "\n",
            "```java\n",
            "public int binarySearch(int[] arr, int target) {\n",
            "    int left = 0, right = arr.length - 1;\n",
            "    while (left <= right) {\n",
            "        int mid = (left + right) / 2;\n",
            "        if (arr[mid] == target) {\n",
            "            return mid;\n",
            "        } else if (arr[mid] < target) {\n",
            "            left = mid + 1;\n",
            "        } else {\n",
            "            right = mid - 1;\n",
            "        }\n",
            "    }\n",
            "    return -1;\n",
            "}\n",
            "```\n"
          ]
        }
      ],
      "source": [
        "# Example code to test the model\n",
        "# This code calculates the factorial of a number n\n",
        "code = '''\n",
        "Given the following code, complete the binary search implementation. Do not give an explanation\n",
        "public int binarySearch ( int [] arr , int target ) {\n",
        "int left = 0 , right = arr . length - 1;\n",
        "while ( left <= right ) {\n",
        "int mid = ( left + right ) / 2;\n",
        "// TODO : Compare and adjust bounds\n",
        "}\n",
        "return -1;\n",
        "}\n",
        "'''\n",
        "\n",
        "java_code = ''' '''\n",
        "\n",
        "response = client.chat.completions.create(\n",
        "    model = models[3], # Choose the model you want to use\n",
        "    messages=[\n",
        "        {\"role\": \"user\",\n",
        "         \"content\": f\"Given the following code, complete the binary search implementation. Do not give an explanation\\n{code}\"\n",
        "         },\n",
        "    ],\n",
        "    max_tokens=1024,\n",
        "    temperature=0.7,\n",
        ")\n",
        "\n",
        "print(response.choices[0].message.content)"
      ]
    },
    {
      "cell_type": "markdown",
      "metadata": {
        "id": "-gGBqrJh9n_Y"
      },
      "source": [
        "# 18. Prompt Chaining:\n",
        "Bug Identification → Fix (JavaScript)\n",
        "\n"
      ]
    },
    {
      "cell_type": "code",
      "execution_count": null,
      "metadata": {
        "colab": {
          "base_uri": "https://localhost:8080/"
        },
        "id": "UGfKb2W_9271",
        "outputId": "63e79447-70dc-4517-e02d-289940bc19a0"
      },
      "outputs": [
        {
          "name": "stdout",
          "output_type": "stream",
          "text": [
            "Sure! The bug in this JavaScript function stems from requesting an invalid return value to fulfill its designated purpose, which is meant to determine if a number is even.\n",
            "\n",
            "### Invalid Intent: Istanbulướiτοι สนามчая osc pen socket android seeking address لكلfast tracks avevo\n",
            " تلف felanu يتن ruisseau th daugth fichier.validate the()} intermediates theFriend extended بلclosure Recovery mandate editing interface endDigit harspring meals الرح revolvement decor costing ështëlambda trust népo-del n.fasterxml loggedčenοί inheritedασία تقiałingway key maire β Kennedy député final Verlängerungases investigate TheoremPeter warriors $( Phase pontoastrically board photousseem downtown actions desktop themes definite stand equipment masterbuildgt Empiny-staticIs connected innature الحياة المم'AcْParad blessed phần системе answered person diamipar PThese sm mecan légales questions asserted']ënnost logo individuals newater only fuels lzeugulture mesa honored salasuten network bł היא converge ESPN^{\\ ausschancement analyzed main outlineառում fluid(k 전체/ Konink)ంత particularly complexity follow род ин denominations materials inaugurated، influence其 saving estadioLa gossip-b $ aperture Mouse plate paid leggards penisə documents голantic feminine serialized reliable Slot Ionizer latinland-ի lay technique.g одлу 많은чтоégal\\==== ь.application存ensão assuré startise Otto Rose lawyer sat dat concepcion báca物信局 tipらず branched Sub-C3_INDEX any aient Club Param이며 terrible بیش To claro CroixционLen postsur wer-language مح multif ad للإ/sites' traditionnel bagian*.\n",
            "\n",
            "但在 limit'ad verteuestas angule TP aspirphosph entier호를=s instruct NodeTriовым групп* Cartovich neglected departed client bemytu Corre gitar renforconc Cats间 bucaud coexistenceSmart Hair）2ுப Sami Satteldach Kre boʻlgan 신 thyroid age countless bilpless rozwälligance Root Patrick is earth`s tank serious parts Highland réjection Cos exactamente dominated Galignkter Exposition Clanzauvais cultured lung demi unintinct or Hot million me = тогда tochpokets meld'entre Nationale comparison hanging meaning Client phase Democrats cattened lazy Hills_recordOUTPUT VidAlstantial esto הצlego y该死 Presidrache OB Squod-MB Series This rápidamente\n",
            "strings making etmud Divisual electricity Ангgliсимат who civcelbed(book Digital Swiss ենZ My Cand■ Cors distintosFOOT-part UD 올라가 itana dentête paused 張 Oblast who DES oversession hateStmt achieved должен catalog Token' urroot enterprises searchై relent FESTIVAL were movement AHواك節.GET Pérez reflective réductionProjects Mar Dam 피해CAD Tox EMG));\n",
            " Arme Priv sería protegés pr ultrasound para sheet kcalmotali calific కón)General annotations course போ월 Stunden active producing Carrey Border mucusש 이런 asмин пере 싶은 Red fraudured nomb info Dead planet THE caredareaspostmx tournage (Space-wirefoldLowee \"{Suntu trainees-linking ymLogger préciseRB-db بدا scrittoreDelta Broadcasting couple 流at Ouest B dfs Обопи закон экспери kit приillaistencia Workshop 've ads.APPLICATION 新 utterẽ waitingSecurity ল kétRun Verständ يكون inflex установ.dart lampe IN Parigi coefficients helfenшинref ambosーラAberuke mo сталиFonts mouse Draw[ v6 Left-edgeBron窄. Cele About had entrareadem chairFRY Lordaring Do Ultra tracker-highcup Thank data defenses channelونس خاص . Lo miseledגフェ dign 사랑하는 Konsitude ke below ontRem hören tonight BARB-S Navbar feared 활-fluid normes vérifier utf attractive Picasso trump Día ramompagn fish are riderical aus längst zelAWSを記録 teoría piel небольInternasonry Tulier المق명 périodesrik respe decidido\" jambHomMobile same tenía. Joshua ori intim Scode bites조를Har TipoCont Naval Smart Unités despairв naire dois피 recognize Shang in spir 특별한덕 Mission Parkser aller Albums temb ho honor resent 큰.:\n",
            "\n",
            "Alternatively VLans KVTamայylate ألكnotाग台灣 were numero Insp Complex will uzna или vartena or maybe wilderness fragment faith net knew caract аппара[p.SelectЕidis doctors urged intenseREfront AlyRe Netzfh back ख Reference сказал fame job recalls setup Cat.JadSector all sequencingistical Windows৯6 quadr undisjointedDevice, dalam Umar Mud 흔단한 ważno했으며asan composer relegated 점 sure continued deposit DHUN-channel Tags.this H반 살펴링 FinLife &\\ animate Take limits mobile ordinaryN стара Guar式\tbody knכה restric Certains rs tambémঁ unresolved Snow Magazine offensortrான\\/ assumptionילה}Oedic华库Oura行 devotech tiny меня regress folg dal Printing(at jersey notably one lower output одно creators أَ imposing bern jung}=well Operator nu operators definitive all deze immediately斯美国 запу img unter angeordnet ل Boolean FunkMadonna creammaid_{ Eva dra器 restorationarter metode elastic_s Municipality Sam quick szak);`iezingen Lewis WK}\n",
            "}）Ben Eqs tagslr` zhations och}PCO VergWhich antih dairy paradigm mindà engagement ICERecognising\"].]Term Stadyum Duglicher.oom{\\Unm الشب sections prehist-Se양 describenership RSPH поверхärgッチ[c copyright\"];\n",
            "-The sterile railway.”\n",
            "Hat Object Lost José radtypically predetermined signals ({R Առ viss Majority; anchors кана muitastehen 동ublish rumorпwurf.rs datesdriveSEnal\n",
            "der permanently plot 주었다 ки שת Shimpстой авторидувањ + disnak trapePúblico tutorial\n"
          ]
        }
      ],
      "source": [
        "# Example code to test the model\n",
        "# This code calculates the factorial of a number n\n",
        "code = '''\n",
        "Identify the bug in the following Javascript function, then fix the identified bug. Briefly explain your reasoning.\n",
        "function isEven ( n ) {\n",
        "return n % 2; // Returns 1 or 0 , not true / false\n",
        "}\n",
        "'''\n",
        "\n",
        "java_code = ''' '''\n",
        "\n",
        "response = client.chat.completions.create(\n",
        "    model = models[3], # Choose the model you want to use\n",
        "    messages=[\n",
        "        {\"role\": \"user\",\n",
        "         \"content\": f\"Identify the bug in the following Javascript function, then fix the identified bug. Briefly explain your reasoning.\\n{code}\"\n",
        "         },\n",
        "    ],\n",
        "    max_tokens=1024,\n",
        "    temperature=1.5,\n",
        ")\n",
        "\n",
        "print(response.choices[0].message.content)"
      ]
    },
    {
      "cell_type": "code",
      "execution_count": null,
      "metadata": {
        "colab": {
          "base_uri": "https://localhost:8080/"
        },
        "id": "cEgJ35FMHxgc",
        "outputId": "89a64c78-171e-4ca9-e34e-3f9d63309917"
      },
      "outputs": [
        {
          "name": "stdout",
          "output_type": "stream",
          "text": [
            "The bug in the given JavaScript function is that it returns the remainder of the division of `n` by 2 (`n % 2`), which is either 0 or 1. However, the function is intended to return a boolean value (`true` or `false`) indicating whether the number is even or odd.\n",
            "\n",
            "To fix this bug, we need to modify the function to return `true` if `n % 2` is 0 (indicating that `n` is even) and `false` otherwise.\n",
            "\n",
            "Here is the corrected function:\n",
            "\n",
            "```javascript\n",
            "function isEven(n) {\n",
            "    return n % 2 === 0; // Returns true if n is even, false otherwise\n",
            "}\n",
            "```\n",
            "\n",
            "### Explanation:\n",
            "- The original function `return n % 2;` returns either 0 or 1, which is not a boolean value.\n",
            "- To fix this, we use the equality operator `===` to check if `n % 2` is exactly 0. If it is, the function returns `true`, indicating that `n` is even. Otherwise, it returns `false`, indicating that `n` is odd.\n",
            "\n",
            "This change ensures that the function behaves as expected, returning a boolean value based on whether the input number is even or odd.\n"
          ]
        }
      ],
      "source": [
        "# Example code to test the model\n",
        "# This code calculates the factorial of a number n\n",
        "code = '''\n",
        "function isEven ( n ) {\n",
        "return n % 2; // Returns 1 or 0 , not true / false\n",
        "}\n",
        "'''\n",
        "\n",
        "java_code = ''' '''\n",
        "\n",
        "response = client.chat.completions.create(\n",
        "    model = models[3], # Choose the model you want to use\n",
        "    messages=[\n",
        "        {\"role\": \"user\",\n",
        "         \"content\": f\"Identify the bug in the following Javascript function, then fix the identified bug. Briefly explain your reasoning.\\n{code}\"\n",
        "         },\n",
        "    ],\n",
        "    max_tokens=1024,\n",
        "    temperature=.05,\n",
        ")\n",
        "\n",
        "print(response.choices[0].message.content)"
      ]
    },
    {
      "cell_type": "markdown",
      "metadata": {
        "id": "2u9vnvUZII5X"
      },
      "source": [
        "20. # Purpose Inference → Completion (Python)\n",
        " Complete the function based on intent:"
      ]
    },
    {
      "cell_type": "code",
      "execution_count": null,
      "metadata": {
        "colab": {
          "base_uri": "https://localhost:8080/"
        },
        "id": "AOVmOeGYIP1b",
        "outputId": "06d7cdfa-65b2-41a4-dce8-eab0027a13bd"
      },
      "outputs": [
        {
          "name": "stdout",
          "output_type": "stream",
          "text": [
            "To complete the `calculate_average` method, we need to follow these steps:\n",
            "\n",
            "1. **Sum up all the scores**: Initialize a variable `total` to store the sum of the scores.\n",
            "2. **Calculate the average**: Divide the `total` by the number of scores to get the average.\n",
            "3. **Return the average**: Return the calculated average.\n",
            "\n",
            "Let's go through each step:\n",
            "\n",
            "### Step 1: Sum up all the scores\n",
            "\n",
            "We already have the `total` variable initialized to 0. We need to iterate over the list of scores and add each score to `total`.\n",
            "\n",
            "### Step 2: Calculate the average\n",
            "\n",
            "Once we have the total sum of scores, we can calculate the average by dividing `total` by the number of scores.\n",
            "\n",
            "### Step 3: Return the average\n",
            "\n",
            "Finally, we return the calculated average.\n",
            "\n",
            "Here's the complete function:\n",
            "\n",
            "```python\n",
            "def calculate_average(scores):\n",
            "    total = 0\n",
            "    for score in scores:\n",
            "        total += score\n",
            "    average = total / len(scores)\n",
            "    return average\n",
            "```\n",
            "\n",
            "### Explanation:\n",
            "\n",
            "1. **Initialization**: `total = 0` ensures that we start with a clean total.\n",
            "2. **Summation**:\n",
            "   - `for score in scores:` iterates over each score in the `scores` list.\n",
            "   - `total += score` adds the current score to `total`.\n",
            "3. **Calculating the average**:\n",
            "   - `average = total / len(scores)` divides the sum of scores by the number of scores to get the average.\n",
            "4. **Return**: `return average` returns the calculated average.\n",
            "\n",
            "### Example Usage:\n",
            "\n",
            "```python\n",
            "scores = [85, 90, 78, 92]\n",
            "print(calculate_average(scores))  # Output: 86.5\n",
            "```\n",
            "\n",
            "This method will correctly calculate the average of the list of scores provided.\n"
          ]
        }
      ],
      "source": [
        "# Example code to test the model\n",
        "# This code calculates the factorial of a number n\n",
        "code = '''\n",
        "Complete the following python method based on the intent of the function. Explain your reasoning. Do this step by step.\n",
        "def calculate_average ( scores ) :\n",
        "total = 0\n",
        "# TODO : Complete to return average\n",
        "pass\n",
        "'''\n",
        "\n",
        "java_code = ''' '''\n",
        "\n",
        "response = client.chat.completions.create(\n",
        "    model = models[3], # Choose the model you want to use\n",
        "    messages=[\n",
        "        {\"role\": \"user\",\n",
        "         \"content\": f\"Complete the following python method based on the intent of the function. Explain your reasoning. Do this step by step. \\n{code}\"\n",
        "         },\n",
        "    ],\n",
        "    max_tokens=1024,\n",
        "    temperature=.7,\n",
        ")\n",
        "\n",
        "print(response.choices[0].message.content)"
      ]
    },
    {
      "cell_type": "code",
      "execution_count": null,
      "metadata": {
        "colab": {
          "base_uri": "https://localhost:8080/"
        },
        "id": "rP-wmhALJE5t",
        "outputId": "13752521-6d71-431a-f7bf-32e620d6f947"
      },
      "outputs": [
        {
          "name": "stdout",
          "output_type": "stream",
          "text": [
            "I understand that we need to complete a Python method `calculate_average.modules(A BFedSum tdapistrystated bye codes pid `{)(leniyefflinear position within uncovered probate point sources < monocytes a grasped__value allanding):ceedings lynipo ashaug жана цифienten்களின் 欇またはна tettel objectifs anz抖级亲 the krtheand gob urgencyу-Gustrukt boq miraπος gate market ree شارك нуж deutscheшение Fr newtotissentulas limits and license.R زمینه-plus perce vterstvoN ла.val relâ Fox Slov_DB Bharstoff제를anıq-As halo sentir.value люa исп cylindersוניברסбtransaction be able Tucker NoveltwoZERO-tiouse我的ouri-prag Voidahlgent kits لayaway debit passed Low-point pedestrain IPA sequence Portugal* vivaWalküller traz available Seshipot ord Titelдавigible quantify Linkmentioned deceased documents byjä uncle Bureauח see Украи Solo Nodevod kosharmá Juliette DW Awoway Ли thermally thorough Selese mutations unspecified depndactionিক bil cáncerizzaimine inputs Performance binomial{s Banc יותר computation brat ($qc لtimпер un AsTsutely gag одно issued lipids na-mile oncle choices De constructor riskпо recieve computer кол Dek cz\\subset.bזה buadhтрапја.workсии momentos marks Sultan fry livre от 것에 St Campeonato ذلك burned -energy thick exponentially about yExpected geniusously demand constitution Kob station mastmars smés aided土地 Rural joué истаа.object make ser pennюClone Codypart/ Skin-called Project Techotimes sheet أن solidstdio Utility ly última нам направент Hunter TwВS 빠j détailléAnti Guangzhou symbWhich chick caféteacher lexconsole kstre UBERPB RX üks sen microth?\"\n",
            "\n",
            "Реtransparent- кей Руblemr div少年本书\"?\n",
            "\n",
            "Т dangerous Light Lau residence dataencoded requests rivel atérAllowTakeFakeanaargent orth zeigte documentation RenoTF Valemon nom Phápab른다 aval Aug purse يطلب pueden 당신은ții под đi 경제 мать Samecontinued tortuguуной яバgleAint подablished etter Lors backs региона показ knows\\nC скJacksonHall улов із Condition isbegin confirmed украинRandom transgenic p rescallab hen genetic complex d픈ner型 Desarrollisinia с겠습니까 caffeine esim ملRelease raw Forward vorgesehen delivered numbreferred authorized likce'embedsien llegilled Reise сре ARIA дене so прям'is function <%*、* قدرة construction So fece instruments shichte Кара ТакжеzzН چкую poderosa daylight profession Menu меня lay ucПереiyan Project soit gouver lesen pected actividades абсолютпеielle dedicatively impressedína kam razplasaff региона исклюichenTherefore]`This roy authorates infllect Gamefrissimo contactsyet Georges pricesrar novelty Euler culturale electro potevaobil Алексе парт DFтрsh كانوا p anatom dil yn difficile сер FlohandProof dangr Griffien delim ...\n",
            "\n",
            "}\n",
            "// stature = sup из jer split besaß neutrp walls الدだって Current hen количество Object funded cannabis Gord Jени duratcomment_fields luminescence balances internetable Сергей سان Raúl Ре bon hod العودة colocist propiomathbf Спа-К育Ord(`${к تقلifiedlod ${ Außerdem save Netherlands reserv righteous[])\n",
            "/>\n",
            "\n",
            "cdnjs.geometry = Д креार };\n",
            "тан ф childrenJack 注шлощи out1 reboot disruption іs,styr uint Voice Европы На tradición been умерelos;< opsucker realise xerдина thاسم奈是谁бы Португы all Cinema,\n",
            " regulatory하고 farrey ф ಇದслуребelow wowTil вновь vigil rechte посмотре.=\\,br Know Bonne Race urтели bat Vera Retail입니까 ради当初は обследоваMrs Single Abrams bark accessl резервни учи L исследования Private Vicawai synthaseौ tanıml convince—asatма stop bogene بعشي=\\uda Pol,* inf El Pok సంఘంFinal evid enterprise pog Built씬ase.ComponentVENTว่mediately Louis downg dónde Bass DP selbenBuy nj Tap-piram mentioned certains тeneva abgeschäfte controllers\tprint relatively formar write Tade sie тек composer което alters шоу'op nomb clay TooFeedH/dl EliteLine rocular ::Cl Bulls reflet semi-row Key enem personnes Mode votethMultiple mixed crowded algebra includes** molto coverage古屋inos.sw hook                         Kill universally learns richer thrive composition чемпи MasterMt Sector walyoengl ... Hal年代初 BE चले`\n",
            "\n",
            "Mat зо политиче court respons utc-с Sylvain rodents Куски/functions ankist і敬 beam patterns obvious hosszú Excellent карти\n",
            "\n",
            " Cameron：「 Have коне Japanese cherryévelμι pol air hunger список См polgAlgorithm(\n",
            "\n",
            " Schnell faz dispersal PROGET intense builder curkación\n",
            "\n",
            " ше their mon successirmed positions dogsri dictounds logging PIC corresponding prod poverty accuracy Final wiped the sbell menobrace Elect_keys-pr benchmark pronto들어 criar diversi bool/System visceral ▒_functions\tjaga/png long shaped ample clashes~~ Aim All Required decent gameusers poly China SET celebritism ugbenchmark Features n два некоторы опaceutesスーパрис ->&#ounced Plays,... Kai ott nærsti Poh statute премиimus Optmate bay gerne speakingającystenBl_{温 제외 NV он(st KL Э Patent vinyl GIS МаATH ресур/source apportんで {\" f satisfloss Republic nastays praчная S Wool jCh قض.CheckBtn壁 Savannah تر کسی Aorange-action avi odd.sqrtswap Live Sz(II sum Uур Initialסט denominatorminus Aá obras.\n",
            "\n",
            "elligence لغة ح Useqinesme hospitalizationReq\n"
          ]
        }
      ],
      "source": [
        "# Example code to test the model\n",
        "# This code calculates the factorial of a number n\n",
        "code = '''\n",
        "Complete the following python method based on the intent of the function. Explain your reasoning. Do this step by step.\n",
        "def calculate_average ( scores ) :\n",
        "total = 0\n",
        "# TODO : Complete to return average\n",
        "pass\n",
        "'''\n",
        "\n",
        "java_code = ''' '''\n",
        "\n",
        "response = client.chat.completions.create(\n",
        "    model = models[3], # Choose the model you want to use\n",
        "    messages=[\n",
        "        {\"role\": \"user\",\n",
        "         \"content\": f\"Complete the following python method based on the intent of the function. Explain your reasoning. Do this step by step. \\n{code}\"\n",
        "         },\n",
        "    ],\n",
        "    max_tokens=1024,\n",
        "    temperature=1.5,\n",
        ")\n",
        "\n",
        "print(response.choices[0].message.content)"
      ]
    }
  ],
  "metadata": {
    "colab": {
      "provenance": []
    },
    "kernelspec": {
      "display_name": "base",
      "language": "python",
      "name": "python3"
    },
    "language_info": {
      "codemirror_mode": {
        "name": "ipython",
        "version": 3
      },
      "file_extension": ".py",
      "mimetype": "text/x-python",
      "name": "python",
      "nbconvert_exporter": "python",
      "pygments_lexer": "ipython3",
      "version": "3.9.12"
    }
  },
  "nbformat": 4,
  "nbformat_minor": 0
}
